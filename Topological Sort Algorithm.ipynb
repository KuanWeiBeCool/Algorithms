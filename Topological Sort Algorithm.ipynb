{
 "cells": [
  {
   "cell_type": "code",
   "execution_count": 1,
   "metadata": {},
   "outputs": [],
   "source": [
    "def topological_sort(graph):\n",
    "    '''\n",
    "    Generate topological ordering of a direct acyclic graph using depth-first search algorithm.\n",
    "    \n",
    "    Parameters\n",
    "    --------------\n",
    "    graph: Python dictionary\n",
    "        The adjacency list representation of the graph.\n",
    "        \n",
    "    Returns\n",
    "    --------------\n",
    "    order: list\n",
    "        The topological ordering as a list of vertices.\n",
    "    '''\n",
    "    order = []\n",
    "    explored = []\n",
    "    for vertex in graph:\n",
    "        if vertex not in explored:\n",
    "            order, explored = dfs(vertex, order, explored)\n",
    "    order.reverse()\n",
    "    return order\n",
    "\n",
    "def dfs(vertex, order, explored):\n",
    "    '''\n",
    "    Depth-first search algorithm.\n",
    "    '''\n",
    "    explored.append(vertex)\n",
    "    for next_vertex in graph[vertex]:\n",
    "        if next_vertex not in explored:\n",
    "            dfs(next_vertex, order, explored)\n",
    "    order.append(vertex)\n",
    "    return order, explored"
   ]
  },
  {
   "cell_type": "code",
   "execution_count": 2,
   "metadata": {},
   "outputs": [
    {
     "data": {
      "text/plain": [
       "['E', 'F', 'K', 'C', 'B', 'A', 'D', 'H', 'J', 'M', 'G', 'I', 'L']"
      ]
     },
     "execution_count": 2,
     "metadata": {},
     "output_type": "execute_result"
    }
   ],
   "source": [
    "graph = {\n",
    "    'A': ['D'],\n",
    "    'B': ['D'],\n",
    "    'C': ['A', 'B'],\n",
    "    'D': ['G', 'H'],\n",
    "    'E': ['A', 'D', 'F'],\n",
    "    'F': ['K', 'J'],\n",
    "    'G': ['I'],\n",
    "    'H': ['J', 'I'],\n",
    "    'I': ['L'],\n",
    "    'J': ['L', 'M'],\n",
    "    'K': ['J'],\n",
    "    'L': [],\n",
    "    'M': []\n",
    "}\n",
    "topological_sort(graph)"
   ]
  },
  {
   "cell_type": "markdown",
   "metadata": {},
   "source": [
    "![image](Topological_Sort.png)"
   ]
  }
 ],
 "metadata": {
  "kernelspec": {
   "display_name": "Python 3",
   "language": "python",
   "name": "python3"
  },
  "language_info": {
   "codemirror_mode": {
    "name": "ipython",
    "version": 3
   },
   "file_extension": ".py",
   "mimetype": "text/x-python",
   "name": "python",
   "nbconvert_exporter": "python",
   "pygments_lexer": "ipython3",
   "version": "3.7.4"
  }
 },
 "nbformat": 4,
 "nbformat_minor": 2
}
