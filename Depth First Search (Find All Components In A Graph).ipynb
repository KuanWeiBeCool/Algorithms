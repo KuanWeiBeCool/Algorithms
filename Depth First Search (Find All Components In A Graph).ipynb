{
 "cells": [
  {
   "cell_type": "code",
   "execution_count": 1,
   "metadata": {},
   "outputs": [],
   "source": [
    "def find_components(graph):\n",
    "    '''\n",
    "    Find all components in a graph using depth-first search algorithm.\n",
    "    \n",
    "    Parameters\n",
    "    --------------\n",
    "    graph: Python dictionary\n",
    "        The adjacency list representation of the graph.\n",
    "        \n",
    "    Returns\n",
    "    --------------\n",
    "    components: list of lists\n",
    "        The components as lists of vertices.\n",
    "    '''\n",
    "    components = []\n",
    "    explored = []\n",
    "    for vertex in graph:\n",
    "        if vertex not in explored:\n",
    "            components.append([])\n",
    "            components, explored = dfs(vertex, components, explored)\n",
    "    return components\n",
    "\n",
    "def dfs(vertex, components, explored):\n",
    "    '''\n",
    "    Depth-first search algorithm.\n",
    "    '''\n",
    "    explored.append(vertex)\n",
    "    components[-1].append(vertex)\n",
    "    for next_vertex in graph[vertex]:\n",
    "        if next_vertex not in explored:\n",
    "            dfs(next_vertex, components, explored)\n",
    "    return components, explored"
   ]
  },
  {
   "cell_type": "code",
   "execution_count": 2,
   "metadata": {},
   "outputs": [
    {
     "data": {
      "text/plain": [
       "[['A', 'B', 'C', 'D', 'E'], ['F', 'G', 'H'], ['I', 'J']]"
      ]
     },
     "execution_count": 2,
     "metadata": {},
     "output_type": "execute_result"
    }
   ],
   "source": [
    "graph = {\n",
    "    'A': ['B', 'C'],\n",
    "    'B': ['A'],\n",
    "    'C': ['A', 'D'],\n",
    "    'D': ['C', 'E'],\n",
    "    'E': ['C', 'D'],\n",
    "    'F': ['G', 'H'],\n",
    "    'G': ['F', 'H'],\n",
    "    'H': ['F', 'G'],\n",
    "    'I': ['J'],\n",
    "    'J': ['I']\n",
    "}\n",
    "find_components(graph)"
   ]
  },
  {
   "cell_type": "markdown",
   "metadata": {},
   "source": [
    "![image](DFS_Find_Components.png)"
   ]
  }
 ],
 "metadata": {
  "kernelspec": {
   "display_name": "Python 3",
   "language": "python",
   "name": "python3"
  },
  "language_info": {
   "codemirror_mode": {
    "name": "ipython",
    "version": 3
   },
   "file_extension": ".py",
   "mimetype": "text/x-python",
   "name": "python",
   "nbconvert_exporter": "python",
   "pygments_lexer": "ipython3",
   "version": "3.7.4"
  }
 },
 "nbformat": 4,
 "nbformat_minor": 2
}
