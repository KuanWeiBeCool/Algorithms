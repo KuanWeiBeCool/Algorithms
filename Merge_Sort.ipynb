{
 "cells": [
  {
   "cell_type": "code",
   "execution_count": 1,
   "metadata": {},
   "outputs": [],
   "source": [
    "def merge (left, right):\n",
    "    '''\n",
    "    Merge two arrays in sorted order\n",
    "    '''\n",
    "    arr = []\n",
    "    i = 0\n",
    "    j = 0\n",
    "    # Break the loop when i or j exceeds the index range\n",
    "    while (i < len(left)) and (j < len(right)):\n",
    "        if left[i] <= right[j]:\n",
    "            arr.append(left[i])  \n",
    "            i += 1\n",
    "        else:\n",
    "            arr.append(right[j]) \n",
    "            j += 1\n",
    "    # Add the rest to the new array\n",
    "    while i < len(left):\n",
    "        arr.append(left[i])  \n",
    "        i += 1\n",
    "    while j < len(right):\n",
    "        arr.append(right[j]) \n",
    "        j += 1\n",
    "   \n",
    "    return arr\n",
    "def merge_sort (arr):\n",
    "    '''\n",
    "    Merge sort algorithm for an 1D-array\n",
    "    '''\n",
    "    len_arr = len(arr)\n",
    "    if len_arr != 1:\n",
    "        split = len_arr // 2\n",
    "        left = merge_sort(arr[:split])\n",
    "        right = merge_sort(arr[split:])\n",
    "        arr = merge(left, right)\n",
    "    return arr"
   ]
  },
  {
   "cell_type": "code",
   "execution_count": 2,
   "metadata": {},
   "outputs": [
    {
     "data": {
      "text/plain": [
       "[0, 1, 1, 2, 3, 3, 3, 4, 5, 6, 7, 8, 9]"
      ]
     },
     "execution_count": 2,
     "metadata": {},
     "output_type": "execute_result"
    }
   ],
   "source": [
    "test_arr = [2, 3, 4, 1, 3, 9, 6, 8, 3, 5, 1, 7, 0]\n",
    "sorted_arr = merge_sort(test_arr)\n",
    "sorted_arr"
   ]
  }
 ],
 "metadata": {
  "kernelspec": {
   "display_name": "Python 3",
   "language": "python",
   "name": "python3"
  },
  "language_info": {
   "codemirror_mode": {
    "name": "ipython",
    "version": 3
   },
   "file_extension": ".py",
   "mimetype": "text/x-python",
   "name": "python",
   "nbconvert_exporter": "python",
   "pygments_lexer": "ipython3",
   "version": "3.7.4"
  }
 },
 "nbformat": 4,
 "nbformat_minor": 2
}
