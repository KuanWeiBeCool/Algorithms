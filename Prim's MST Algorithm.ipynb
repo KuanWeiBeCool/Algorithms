{
 "cells": [
  {
   "cell_type": "code",
   "execution_count": 1,
   "metadata": {},
   "outputs": [],
   "source": [
    "def prim(graph):\n",
    "    '''\n",
    "    Calculate the overall cost of minimum spanning tree using Prim's MST Algorithm\n",
    "    \n",
    "    Parameters\n",
    "    --------------\n",
    "    graph: Python dictionary\n",
    "        The adjacency list representation of the graph.\n",
    "        \n",
    "    Returns\n",
    "    --------------\n",
    "    cost: int\n",
    "        The overall cost of minimum spanning tree\n",
    "    '''\n",
    "    X = min(list(graph.keys()))\n",
    "    cost = 0\n",
    "    all_edges = []\n",
    "    while len(X) != len(graph.keys()):\n",
    "        for edge in graph[X[-1]]:\n",
    "            all_edges.append(edge)\n",
    "        all_edges.sort(key=lambda t: t[1])\n",
    "        # Always try to find the edge with minimum cost\n",
    "        for edge in all_edges:\n",
    "            if edge[0] not in X:\n",
    "                X.append(edge[0])\n",
    "                cost += edge[1]\n",
    "                break\n",
    "    return cost"
   ]
  }
 ],
 "metadata": {
  "kernelspec": {
   "display_name": "Python 3",
   "language": "python",
   "name": "python3"
  },
  "language_info": {
   "codemirror_mode": {
    "name": "ipython",
    "version": 3
   },
   "file_extension": ".py",
   "mimetype": "text/x-python",
   "name": "python",
   "nbconvert_exporter": "python",
   "pygments_lexer": "ipython3",
   "version": "3.7.4"
  }
 },
 "nbformat": 4,
 "nbformat_minor": 2
}
