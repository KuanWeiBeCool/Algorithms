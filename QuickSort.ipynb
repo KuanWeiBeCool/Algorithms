{
 "cells": [
  {
   "cell_type": "code",
   "execution_count": 1,
   "metadata": {},
   "outputs": [],
   "source": [
    "import random\n",
    "def quick_sort (arr, low, high):\n",
    "    '''\n",
    "    Sort an array using Quick Sort algorithm.\n",
    "    \n",
    "    Parameters\n",
    "    --------------\n",
    "    arr: 1-D array\n",
    "        The array to be sorted\n",
    "    low: int\n",
    "        The lowest index in the array\n",
    "    high: int\n",
    "        The highest index in the array\n",
    "        \n",
    "    Returns\n",
    "    --------------\n",
    "    arr: 1-D array\n",
    "        Sorted array\n",
    "    '''\n",
    "    if low < high:\n",
    "        pivot = round(random.uniform(low, high))\n",
    "        if pivot != low:\n",
    "            temp = arr[low]\n",
    "            arr[low] = arr[pivot]\n",
    "            arr[pivot] = temp\n",
    "        i = low + 1\n",
    "        j = low + 1\n",
    "        while j <= high:\n",
    "            if arr[j] <= arr[low]:\n",
    "                # Swap jth element with ith element\n",
    "                temp = arr[i]\n",
    "                arr[i] = arr[j]\n",
    "                arr[j] = temp\n",
    "                i += 1\n",
    "            j += 1\n",
    "        # Swap (i-1)th element with the pivot\n",
    "        temp = arr[low]\n",
    "        arr[low] = arr[i-1]\n",
    "        arr[i-1] = temp\n",
    "        # Recursive\n",
    "        quick_sort(arr, low, i-2)\n",
    "        quick_sort(arr, i, high)"
   ]
  },
  {
   "cell_type": "code",
   "execution_count": 2,
   "metadata": {
    "scrolled": true
   },
   "outputs": [
    {
     "data": {
      "text/plain": [
       "[0, 1, 1, 2, 3, 3, 3, 4, 6, 7, 8, 8, 9, 11, 12, 14, 14, 15, 17, 24, 31, 33]"
      ]
     },
     "execution_count": 2,
     "metadata": {},
     "output_type": "execute_result"
    }
   ],
   "source": [
    "test_arr = [2, 3, 4, 1, 3, 9, 6, 8, 1, 7, 0, 8, 3, 12, 15, 11, 14, 31, 24, 33, 17, 14]\n",
    "quick_sort(test_arr, 0, len(test_arr)-1)\n",
    "test_arr"
   ]
  }
 ],
 "metadata": {
  "kernelspec": {
   "display_name": "Python 3",
   "language": "python",
   "name": "python3"
  },
  "language_info": {
   "codemirror_mode": {
    "name": "ipython",
    "version": 3
   },
   "file_extension": ".py",
   "mimetype": "text/x-python",
   "name": "python",
   "nbconvert_exporter": "python",
   "pygments_lexer": "ipython3",
   "version": "3.7.4"
  }
 },
 "nbformat": 4,
 "nbformat_minor": 2
}
