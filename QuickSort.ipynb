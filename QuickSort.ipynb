{
 "cells": [
  {
   "cell_type": "code",
   "execution_count": 1,
   "metadata": {},
   "outputs": [],
   "source": [
    "import random\n",
    "def quick_sort (arr):\n",
    "    '''\n",
    "    Sort an array using Quick Sort algorithm.\n",
    "    \n",
    "    Parameters\n",
    "    --------------\n",
    "    arr: 1-D array\n",
    "        The array to be sorted\n",
    "        \n",
    "    Returns\n",
    "    --------------\n",
    "    arr: 1-D array\n",
    "        Sorted array\n",
    "    '''\n",
    "    len_arr = len(arr)\n",
    "    if (len_arr == 1) | (len_arr==0):\n",
    "        return arr\n",
    "    pivot = round(random.uniform(0, len_arr-1))\n",
    "    if pivot != 0:\n",
    "        temp = arr[0]\n",
    "        arr[0] = arr[pivot]\n",
    "        arr[pivot] = temp\n",
    "    i = 1\n",
    "    j = 1\n",
    "    while j < len_arr:\n",
    "        if arr[j] <= arr[0]:\n",
    "            # Swap jth element with ith element\n",
    "            temp = arr[i]\n",
    "            arr[i] = arr[j]\n",
    "            arr[j] = temp\n",
    "            i += 1\n",
    "        j += 1\n",
    "    # Swap (i-1)th element with the pivot\n",
    "    temp = arr[0]\n",
    "    arr[0] = arr[i-1]\n",
    "    arr[i-1] = temp\n",
    "    # Recursive\n",
    "    arr[0:i-1] = quick_sort(arr[0:i-1])\n",
    "    arr[i-1:len_arr] = quick_sort(arr[i-1:len_arr])\n",
    "    return arr"
   ]
  },
  {
   "cell_type": "code",
   "execution_count": 2,
   "metadata": {},
   "outputs": [
    {
     "data": {
      "text/plain": [
       "[0, 1, 1, 2, 3, 3, 3, 4, 6, 7, 8, 8, 9, 11, 12, 14, 14, 15, 17, 24, 31, 33]"
      ]
     },
     "execution_count": 2,
     "metadata": {},
     "output_type": "execute_result"
    }
   ],
   "source": [
    "test_arr = [2, 3, 4, 1, 3, 9, 6, 8, 1, 7, 0, 8, 3, 12, 15, 11, 14, 31, 24, 33, 17, 14]\n",
    "sorted_arr = quick_sort(test_arr)\n",
    "sorted_arr"
   ]
  }
 ],
 "metadata": {
  "kernelspec": {
   "display_name": "Python 3",
   "language": "python",
   "name": "python3"
  },
  "language_info": {
   "codemirror_mode": {
    "name": "ipython",
    "version": 3
   },
   "file_extension": ".py",
   "mimetype": "text/x-python",
   "name": "python",
   "nbconvert_exporter": "python",
   "pygments_lexer": "ipython3",
   "version": "3.7.4"
  }
 },
 "nbformat": 4,
 "nbformat_minor": 2
}
