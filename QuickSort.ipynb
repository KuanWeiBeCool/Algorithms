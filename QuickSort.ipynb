{
 "cells": [
  {
   "cell_type": "code",
   "execution_count": 39,
   "metadata": {},
   "outputs": [],
   "source": [
    "import random\n",
    "def quick_sort (arr, low, high):\n",
    "    '''\n",
    "    Sort an array using Quick Sort algorithm.\n",
    "    \n",
    "    Parameters\n",
    "    --------------\n",
    "    arr: 1-D array\n",
    "        The array to be sorted\n",
    "    low: int\n",
    "        The lowest index in the array\n",
    "    high: int\n",
    "        The highest index in the array\n",
    "        \n",
    "    Returns\n",
    "    --------------\n",
    "    arr: 1-D array\n",
    "        Sorted array\n",
    "    '''\n",
    "    if low < high:\n",
    "        pivot = round(random.uniform(low, high))\n",
    "        print(\"Before: {}\".format(arr))\n",
    "        print(\"pivot: {}\".format(pivot))\n",
    "        if pivot != low:\n",
    "            temp = arr[low]\n",
    "            arr[low] = arr[pivot]\n",
    "            arr[pivot] = temp\n",
    "        i = low + 1\n",
    "        j = low + 1\n",
    "        while j <= high:\n",
    "            if arr[j] <= arr[low]:\n",
    "                # Swap jth element with ith element\n",
    "                temp = arr[i]\n",
    "                arr[i] = arr[j]\n",
    "                arr[j] = temp\n",
    "                i += 1\n",
    "            j += 1\n",
    "        # Swap (i-1)th element with the pivot\n",
    "        temp = arr[low]\n",
    "        arr[low] = arr[i-1]\n",
    "        arr[i-1] = temp\n",
    "        print(\"After: {}\".format(arr))\n",
    "        print(\"\\n\")\n",
    "        # Recursive\n",
    "        quick_sort(arr, low, i-2)\n",
    "        quick_sort(arr, i, high)"
   ]
  },
  {
   "cell_type": "code",
   "execution_count": 41,
   "metadata": {
    "scrolled": true
   },
   "outputs": [
    {
     "name": "stdout",
     "output_type": "stream",
     "text": [
      "Before: [2, 3, 4, 1, 3, 9]\n",
      "pivot: 2\n",
      "After: [3, 3, 2, 1, 4, 9]\n",
      "\n",
      "\n",
      "Before: [3, 3, 2, 1, 4, 9]\n",
      "pivot: 2\n",
      "After: [1, 2, 3, 3, 4, 9]\n",
      "\n",
      "\n",
      "Before: [1, 2, 3, 3, 4, 9]\n",
      "pivot: 3\n",
      "After: [1, 2, 3, 3, 4, 9]\n",
      "\n",
      "\n"
     ]
    },
    {
     "data": {
      "text/plain": [
       "[1, 2, 3, 3, 4, 9]"
      ]
     },
     "execution_count": 41,
     "metadata": {},
     "output_type": "execute_result"
    }
   ],
   "source": [
    "test_arr = [2, 3, 4, 1, 3, 9]\n",
    "quick_sort(test_arr, 0, len(test_arr)-1)\n",
    "test_arr"
   ]
  },
  {
   "cell_type": "code",
   "execution_count": 4,
   "metadata": {},
   "outputs": [
    {
     "name": "stdout",
     "output_type": "stream",
     "text": [
      "Sorted array is:\n",
      "[0, 1, 1, 2, 3, 3, 3, 4, 6, 7, 8, 8, 9, 11, 12, 14, 14, 15, 17, 24, 31, 33]\n"
     ]
    }
   ],
   "source": [
    "# Python program for implementation of Quicksort Sort\n",
    " \n",
    "# This function takes last element as pivot, places\n",
    "# the pivot element at its correct position in sorted\n",
    "# array, and places all smaller (smaller than pivot)\n",
    "# to left of pivot and all greater elements to right\n",
    "# of pivot\n",
    " \n",
    " \n",
    "def partition(arr, low, high):\n",
    "    i = (low-1)         # index of smaller element\n",
    "    pivot = arr[high]     # pivot\n",
    " \n",
    "    for j in range(low, high):\n",
    " \n",
    "        # If current element is smaller than or\n",
    "        # equal to pivot\n",
    "        if arr[j] <= pivot:\n",
    " \n",
    "            # increment index of smaller element\n",
    "            i = i+1\n",
    "            arr[i], arr[j] = arr[j], arr[i]\n",
    " \n",
    "    arr[i+1], arr[high] = arr[high], arr[i+1]\n",
    "    return (i+1)\n",
    " \n",
    "# The main function that implements QuickSort\n",
    "# arr[] --> Array to be sorted,\n",
    "# low  --> Starting index,\n",
    "# high  --> Ending index\n",
    " \n",
    "# Function to do Quick sort\n",
    " \n",
    " \n",
    "def quickSort(arr, low, high):\n",
    "#     if len(arr) == 1:\n",
    "#         return arr\n",
    "    if low < high:\n",
    " \n",
    "        # pi is partitioning index, arr[p] is now\n",
    "        # at right place\n",
    "        pi = partition(arr, low, high)\n",
    " \n",
    "        # Separately sort elements before\n",
    "        # partition and after partition\n",
    "        quickSort(arr, low, pi-1)\n",
    "        quickSort(arr, pi+1, high)\n",
    " \n",
    " \n",
    "# Driver code to test above\n",
    "arr = [2, 3, 4, 1, 3, 9, 6, 8, 1, 7, 0, 8, 3, 12, 15, 11, 14, 31, 24, 33, 17, 14]\n",
    "n = len(arr)\n",
    "quickSort(arr, 0, n-1)\n",
    "print(\"Sorted array is:\")\n",
    "print(arr)"
   ]
  },
  {
   "cell_type": "code",
   "execution_count": 14,
   "metadata": {},
   "outputs": [],
   "source": [
    "def add (arr):\n",
    "    arr[1] = arr[1] + 1"
   ]
  },
  {
   "cell_type": "code",
   "execution_count": 22,
   "metadata": {
    "scrolled": true
   },
   "outputs": [
    {
     "data": {
      "text/plain": [
       "[1, 3, 3]"
      ]
     },
     "execution_count": 22,
     "metadata": {},
     "output_type": "execute_result"
    }
   ],
   "source": [
    "import numpy as np\n",
    "arr = [1, 2, 3]\n",
    "add(arr)\n",
    "arr"
   ]
  },
  {
   "cell_type": "code",
   "execution_count": 23,
   "metadata": {},
   "outputs": [],
   "source": [
    "a = 1\n",
    "b = a\n",
    "a += 1"
   ]
  },
  {
   "cell_type": "code",
   "execution_count": 25,
   "metadata": {},
   "outputs": [
    {
     "data": {
      "text/plain": [
       "1"
      ]
     },
     "execution_count": 25,
     "metadata": {},
     "output_type": "execute_result"
    }
   ],
   "source": [
    "b"
   ]
  },
  {
   "cell_type": "code",
   "execution_count": 26,
   "metadata": {},
   "outputs": [],
   "source": [
    "list_1 = [1, 2]\n",
    "list_2 = list_1\n",
    "list_1.append(1)"
   ]
  },
  {
   "cell_type": "code",
   "execution_count": 27,
   "metadata": {},
   "outputs": [
    {
     "data": {
      "text/plain": [
       "[1, 2, 1]"
      ]
     },
     "execution_count": 27,
     "metadata": {},
     "output_type": "execute_result"
    }
   ],
   "source": [
    "list_2"
   ]
  }
 ],
 "metadata": {
  "kernelspec": {
   "display_name": "Python 3",
   "language": "python",
   "name": "python3"
  },
  "language_info": {
   "codemirror_mode": {
    "name": "ipython",
    "version": 3
   },
   "file_extension": ".py",
   "mimetype": "text/x-python",
   "name": "python",
   "nbconvert_exporter": "python",
   "pygments_lexer": "ipython3",
   "version": "3.7.4"
  }
 },
 "nbformat": 4,
 "nbformat_minor": 2
}
