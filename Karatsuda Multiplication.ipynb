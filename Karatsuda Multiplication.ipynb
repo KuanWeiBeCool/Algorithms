{
 "cells": [
  {
   "cell_type": "code",
   "execution_count": 1,
   "metadata": {},
   "outputs": [],
   "source": [
    "def karatsuda_multiplication(x, y, base=10):\n",
    "    \n",
    "    '''\n",
    "    Karatsuda multiplication algorithm for two integers x and y\n",
    "    x : int\n",
    "        the first value for multiplication\n",
    "    y : int\n",
    "        the second value for multiplication\n",
    "    base: int, default=10\n",
    "        the base of the power operation\n",
    "    '''\n",
    "    str_x = str(x)\n",
    "    str_y = str(y)\n",
    "    len_x = len(str_x)\n",
    "    len_y = len(str_y)\n",
    "    n = min([len_x, len_y]) - 1 # Number of digits - 1 for the smaller number\n",
    "    if (n == 0):\n",
    "        return (x * y)\n",
    "    else:\n",
    "        # Separate numbers into parts\n",
    "        base_to_n = base**n\n",
    "        base_to_2n = base**(2*n)\n",
    "        a = int(x / base_to_n)\n",
    "        b = int(x - a * base_to_n)\n",
    "        c = int(y / base_to_n)\n",
    "        d = int(y - c * base_to_n)\n",
    "        a_times_c = karatsuda_multiplication(a, c)\n",
    "        b_times_d = karatsuda_multiplication(b, d)\n",
    "        return base_to_2n * a_times_c + base_to_n * ((a + b) * (c + d) - a_times_c - b_times_d) + b_times_d"
   ]
  },
  {
   "cell_type": "code",
   "execution_count": 2,
   "metadata": {},
   "outputs": [
    {
     "name": "stdout",
     "output_type": "stream",
     "text": [
      "My Karatsuda Multiplication : 70109427840\n",
      "Python Multiplication: 70109427840\n"
     ]
    }
   ],
   "source": [
    "# Verify:\n",
    "print(\"My Karatsuda Multiplication : {}\".format(karatsuda_multiplication(123456, 567890)))\n",
    "print(\"Python Multiplication: {}\".format(123456 * 567890))"
   ]
  }
 ],
 "metadata": {
  "kernelspec": {
   "display_name": "Python 3",
   "language": "python",
   "name": "python3"
  },
  "language_info": {
   "codemirror_mode": {
    "name": "ipython",
    "version": 3
   },
   "file_extension": ".py",
   "mimetype": "text/x-python",
   "name": "python",
   "nbconvert_exporter": "python",
   "pygments_lexer": "ipython3",
   "version": "3.7.4"
  }
 },
 "nbformat": 4,
 "nbformat_minor": 2
}
