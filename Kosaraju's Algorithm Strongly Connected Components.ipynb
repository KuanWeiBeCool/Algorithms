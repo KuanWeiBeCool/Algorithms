{
 "cells": [
  {
   "cell_type": "code",
   "execution_count": 1,
   "metadata": {},
   "outputs": [],
   "source": [
    "from collections import defaultdict\n",
    "def scc_kosaraju_recursion(graph):\n",
    "    '''\n",
    "    Find all strongly connected components using Kosaraju's algorithm (recursive).\n",
    "    \n",
    "    Parameters\n",
    "    --------------\n",
    "    graph: Python dictionary\n",
    "        The adjacency list representation of the graph.\n",
    "        \n",
    "    Returns\n",
    "    --------------\n",
    "    scc: list\n",
    "        The strongly connected components as a list.\n",
    "    '''\n",
    "    # Reverse the graph\n",
    "    graph_r = defaultdict(list)\n",
    "    for u in graph:\n",
    "        graph_r[u] = []\n",
    "    for u in graph:\n",
    "        for v in graph[u]:\n",
    "            graph_r[v].append(u)\n",
    "    explored = []\n",
    "    finishing = []\n",
    "    for vertex in graph_r:\n",
    "        if vertex not in explored:\n",
    "            finishing, explored = dfs_reverse(graph_r, vertex, finishing, explored)\n",
    "    # Find SCCs in the original graph\n",
    "    finishing_r = finishing.reverse()\n",
    "    scc = []\n",
    "    explored = []\n",
    "    for vertex in finishing:\n",
    "        if vertex not in explored:\n",
    "            scc.append([])\n",
    "            scc, explored = dfs_scc(graph, vertex, scc, explored)\n",
    "    return scc\n",
    "\n",
    "\n",
    "def dfs_reverse(graph_r, vertex, finishing, explored):\n",
    "    '''\n",
    "    Depth-first search algorithm for the reverse graph.\n",
    "    '''\n",
    "    explored.append(vertex)\n",
    "    for next_vertex in graph_r[vertex]:\n",
    "        if next_vertex not in explored:\n",
    "            dfs_reverse(graph_r, next_vertex, finishing, explored)\n",
    "    finishing.append(vertex)\n",
    "    return finishing, explored\n",
    "\n",
    "\n",
    "def dfs_scc(graph, vertex, scc, explored):\n",
    "    '''\n",
    "    Depth-first search algorithm for finding scc.\n",
    "    '''\n",
    "    explored.append(vertex)\n",
    "    for next_vertex in graph[vertex]:\n",
    "        if next_vertex not in explored:\n",
    "            dfs_scc(graph, next_vertex, scc, explored)\n",
    "    scc[-1].append(vertex)\n",
    "    return scc, explored"
   ]
  },
  {
   "cell_type": "code",
   "execution_count": 2,
   "metadata": {},
   "outputs": [],
   "source": [
    "from collections import defaultdict\n",
    "def scc_kosaraju_iteration(graph):\n",
    "    '''\n",
    "    Find all strongly connected components using Kosaraju's algorithm (iterative).\n",
    "    \n",
    "    Parameters\n",
    "    --------------\n",
    "    graph: Python dictionary\n",
    "        The adjacency list representation of the graph.\n",
    "        \n",
    "    Returns\n",
    "    --------------\n",
    "    scc: list\n",
    "        The strongly connected components as a list.\n",
    "    '''\n",
    "    # Reverse the graph\n",
    "    graph_r = defaultdict(list)\n",
    "    for u in graph:\n",
    "        graph_r[u] = []\n",
    "    for u in graph:\n",
    "        for v in graph[u]:\n",
    "            graph_r[v].append(u)\n",
    "    # Find the finishing order\n",
    "    num_nodes = max(graph.keys()) + 1\n",
    "    order = []\n",
    "    explored = [False] * num_nodes\n",
    "    stack = []\n",
    "    for node in graph_r:\n",
    "        if not explored[node]:\n",
    "            stack.append(node)\n",
    "        while stack:\n",
    "            s = stack[-1]\n",
    "            explored[s] = True\n",
    "            count = 0\n",
    "        for node in graph_r[s]:\n",
    "            if not explored[node]:\n",
    "                stack.append(node)\n",
    "                explored[node] = True\n",
    "                count += 1\n",
    "        if count == 0:\n",
    "            order.append(s)\n",
    "            stack.pop()\n",
    "    order.reverse()\n",
    "    # Find strongly connected components\n",
    "    scc = []\n",
    "    explored = [False] * num_nodes\n",
    "    stack = []\n",
    "    for vertex in order:\n",
    "        if not explored[vertex]:\n",
    "            stack.append(vertex)\n",
    "        scc.append([])  \n",
    "        while stack:\n",
    "            s = stack.pop()\n",
    "            scc[-1].append(s)\n",
    "            explored[s] = True\n",
    "        for vertex in graph[s]:\n",
    "            if not explored[vertex]:\n",
    "                stack.append(vertex)\n",
    "                explored[vertex] = True\n",
    "    return scc"
   ]
  },
  {
   "cell_type": "code",
   "execution_count": 3,
   "metadata": {},
   "outputs": [],
   "source": [
    "graph = {\n",
    "    'A': ['C'],\n",
    "    'B': ['A'],\n",
    "    'C': ['B'],\n",
    "    'D': ['B', 'F'],\n",
    "    'E': ['D'],\n",
    "    'F': ['E', 'G'],\n",
    "    'G': ['J'],\n",
    "    'H': ['G'],\n",
    "    'I': ['H'],\n",
    "    'J': ['I'],\n",
    "    'K': ['J']\n",
    "}"
   ]
  },
  {
   "cell_type": "code",
   "execution_count": 4,
   "metadata": {},
   "outputs": [
    {
     "data": {
      "text/plain": [
       "[['H', 'I', 'J', 'G'], ['K'], ['B', 'C', 'A'], ['E', 'F', 'D']]"
      ]
     },
     "execution_count": 4,
     "metadata": {},
     "output_type": "execute_result"
    }
   ],
   "source": [
    "scc_kosaraju_recursion(graph)"
   ]
  },
  {
   "cell_type": "markdown",
   "metadata": {},
   "source": [
    "**Graph:**"
   ]
  },
  {
   "cell_type": "markdown",
   "metadata": {},
   "source": [
    "![image](Kosaraju_Algorithm.png)"
   ]
  }
 ],
 "metadata": {
  "kernelspec": {
   "display_name": "Python 3",
   "language": "python",
   "name": "python3"
  },
  "language_info": {
   "codemirror_mode": {
    "name": "ipython",
    "version": 3
   },
   "file_extension": ".py",
   "mimetype": "text/x-python",
   "name": "python",
   "nbconvert_exporter": "python",
   "pygments_lexer": "ipython3",
   "version": "3.7.4"
  }
 },
 "nbformat": 4,
 "nbformat_minor": 2
}
