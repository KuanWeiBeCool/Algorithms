{
 "cells": [
  {
   "cell_type": "markdown",
   "metadata": {},
   "source": [
    "Count inversion: given an array, the inversions are the pairs where the first number is larger than the second number and appears in the front of the second number.\n",
    "\n",
    "E.g. array =  [1, 5, 2, 4, 3, 6]\n",
    "\n",
    "inversions: (5, 2), (5, 4), (4, 3)."
   ]
  },
  {
   "cell_type": "code",
   "execution_count": 9,
   "metadata": {},
   "outputs": [],
   "source": [
    "def merge_and_count (left, right):\n",
    "    '''\n",
    "    Merge two arrays in sorted order\n",
    "    '''\n",
    "    arr = []\n",
    "    i = 0\n",
    "    j = 0\n",
    "    count = 0\n",
    "    # Break the loop when i or j exceeds the index range\n",
    "    while (i < len(left)) and (j < len(right)):\n",
    "        if left[i] <= right[j]:\n",
    "            arr.append(left[i])  \n",
    "            i += 1\n",
    "        else:\n",
    "            arr.append(right[j]) \n",
    "            j += 1\n",
    "            count += len(left) - i # Number of inversions equals to number of elements still left i\n",
    "    # Add the rest to the new array\n",
    "    while i < len(left):\n",
    "        arr.append(left[i])  \n",
    "        i += 1\n",
    "    while j < len(right):\n",
    "        arr.append(right[j]) \n",
    "        j += 1\n",
    "\n",
    "    return arr, count\n",
    "def sort_and_count_inversion (arr):\n",
    "    '''\n",
    "    Merge sort algorithm for an 1D-array\n",
    "    '''\n",
    "    count = 0\n",
    "    len_arr = len(arr)\n",
    "    if len_arr != 1:\n",
    "        split = len_arr // 2\n",
    "        left, count_left = sort_and_count_inversion(arr[:split])\n",
    "        right, count_right = sort_and_count_inversion(arr[split:])\n",
    "        arr, count_merge = merge_and_count(left, right)\n",
    "        count = count_left + count_right + count_merge\n",
    "    return arr, count"
   ]
  },
  {
   "cell_type": "code",
   "execution_count": 10,
   "metadata": {},
   "outputs": [
    {
     "name": "stdout",
     "output_type": "stream",
     "text": [
      "[1, 2, 3, 4, 5, 6]\n",
      "15\n"
     ]
    }
   ],
   "source": [
    "test_arr = [6, 5, 4, 3, 2, 1]\n",
    "sorted_arr, inversion_count = sort_and_count_inversion(test_arr)\n",
    "print(sorted_arr)\n",
    "print(inversion_count)"
   ]
  }
 ],
 "metadata": {
  "kernelspec": {
   "display_name": "Python 3",
   "language": "python",
   "name": "python3"
  },
  "language_info": {
   "codemirror_mode": {
    "name": "ipython",
    "version": 3
   },
   "file_extension": ".py",
   "mimetype": "text/x-python",
   "name": "python",
   "nbconvert_exporter": "python",
   "pygments_lexer": "ipython3",
   "version": "3.7.4"
  }
 },
 "nbformat": 4,
 "nbformat_minor": 2
}
