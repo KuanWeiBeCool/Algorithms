{
 "cells": [
  {
   "cell_type": "code",
   "execution_count": 1,
   "metadata": {},
   "outputs": [],
   "source": [
    "from collections import deque\n",
    "def bfs_connected(graph, start):\n",
    "    '''\n",
    "    Check the connections of the start with all the elements in the graph using Breadth First Search.\n",
    "    \n",
    "    Parameters\n",
    "    ----------------\n",
    "    graph: Python dictionary\n",
    "        The adjacency list representation of the graph.\n",
    "    \n",
    "    start: graph element\n",
    "    The starting point.\n",
    "\n",
    "    Returns\n",
    "    ---------------\n",
    "    explored: list\n",
    "        The elements connected with the start.\n",
    "    '''\n",
    "    explored = [start]\n",
    "    queue = deque(start)\n",
    "    while queue != deque():\n",
    "        vertex = queue[0]\n",
    "        queue.popleft()\n",
    "        for element in graph[vertex]:\n",
    "            if element not in explored:\n",
    "                explored.append(element)\n",
    "                queue.append(element)\n",
    "    return explored"
   ]
  },
  {
   "cell_type": "code",
   "execution_count": 2,
   "metadata": {},
   "outputs": [],
   "source": [
    "def bfs_shortest_path(graph, start, end):\n",
    "    '''\n",
    "    Find the shortest path between start and end in the graph using Breadth First Search.\n",
    "    \n",
    "    Parameters\n",
    "    ----------------\n",
    "    graph: Python dictionary\n",
    "        The adjacency list representation of the graph.\n",
    "    \n",
    "    start: graph element\n",
    "    The starting point.\n",
    "    \n",
    "    end: graph element\n",
    "    The end point.\n",
    "\n",
    "    Returns\n",
    "    ---------------\n",
    "    path: list\n",
    "        The shortest path.\n",
    "    '''\n",
    "    explored = [start]\n",
    "    # Instead of queue graph elements, queue paths\n",
    "    queue = deque([[start]])\n",
    "    if start == end:\n",
    "        return [start]\n",
    "    while queue != deque():\n",
    "        path = queue[0]\n",
    "        queue.popleft()\n",
    "        # Look for new elements connected to the farest element on the path\n",
    "        vertex = path[-1]\n",
    "        for element in graph[vertex]:\n",
    "            if element not in explored:\n",
    "                new_path = list(path)\n",
    "                new_path.append(element)\n",
    "                queue.append(new_path)\n",
    "                if element == end:\n",
    "                    return new_path\n",
    "    print(\"No path found between {} and {}\".format(start, end))\n",
    "    return None"
   ]
  },
  {
   "cell_type": "code",
   "execution_count": 3,
   "metadata": {
    "scrolled": true
   },
   "outputs": [
    {
     "name": "stdout",
     "output_type": "stream",
     "text": [
      "Elements connected to 'H': ['H', 'C', 'L', 'M', 'A', 'K', 'B', 'D', 'I', 'E', 'F', 'J', 'G']\n",
      "Shortest path between 'H' and 'I': ['H', 'M', 'K', 'I']\n"
     ]
    }
   ],
   "source": [
    "graph = {\n",
    "    'A': ['B', 'C', 'D'],\n",
    "    'B': ['A', 'E', 'F'],\n",
    "    'C': ['A', 'H'],\n",
    "    'D': ['A', 'I', 'J'],\n",
    "    'E': ['B'],\n",
    "    'F': ['B', 'G'],\n",
    "    'G': ['F'],\n",
    "    'H': ['C', 'L', 'M'],\n",
    "    'I': ['D', 'K'],\n",
    "    'J': ['D'],\n",
    "    'K': ['I', 'M'],\n",
    "    'L': ['H'],\n",
    "    'M': ['H', 'K']\n",
    "}\n",
    "print(\"Elements connected to 'H': {}\".format(bfs_connected(graph, 'H')))\n",
    "print(\"Shortest path between 'H' and 'I': {}\".format(bfs_shortest_path(graph, 'H', 'I')))"
   ]
  },
  {
   "cell_type": "markdown",
   "metadata": {},
   "source": [
    "Graph:"
   ]
  },
  {
   "cell_type": "markdown",
   "metadata": {},
   "source": [
    "![image](Tree_graph.png)"
   ]
  }
 ],
 "metadata": {
  "kernelspec": {
   "display_name": "Python 3",
   "language": "python",
   "name": "python3"
  },
  "language_info": {
   "codemirror_mode": {
    "name": "ipython",
    "version": 3
   },
   "file_extension": ".py",
   "mimetype": "text/x-python",
   "name": "python",
   "nbconvert_exporter": "python",
   "pygments_lexer": "ipython3",
   "version": "3.7.4"
  }
 },
 "nbformat": 4,
 "nbformat_minor": 2
}
